{
 "cells": [
  {
   "cell_type": "code",
   "execution_count": 1,
   "metadata": {},
   "outputs": [],
   "source": [
    "import requests\n",
    "import pandas as pd\n",
    "from collections import OrderedDict\n",
    "import matplotlib.pyplot as plt\n",
    "import numpy as np\n",
    "from sklearn.cluster import KMeans\n",
    "\n",
    "#Reference: https://github.com/alexjungaalto/ResearchPublic/blob/master/ReadPandemic.ipynb"
   ]
  },
  {
   "cell_type": "code",
   "execution_count": 2,
   "metadata": {},
   "outputs": [],
   "source": [
    "# population data either comes from wikidata or https://www.worldometers.info/world-population/population-by-country/\n",
    "# Each country's Covid-19 pandemic data can be fetched from wikidata.\n",
    "covid19Data = {\n",
    "    'Austria': {'wd_id': 'Q86847911', 'lockdown_date': '2020-03-15', 'population':   8809212},\n",
    "    'Belgium': {'wd_id': 'Q84446340', 'lockdown_date': '2020-03-13', 'population':  11578789},\n",
    "    'Bulgaria':{'wd_id': 'Q87486535', 'lockdown_date': '2020-03-13', 'population':   7000039},\n",
    "    'Croatia': {'wd_id': 'Q87250732', 'lockdown_date': '2020-03-13', 'population':   4105493},\n",
    "    'Cyprus':  {'wd_id': 'Q87580938', 'lockdown_date': '2020-03-13', 'population':   1207359},\n",
    "    'Czech':   {'wd_id': 'Q86919406', 'lockdown_date': '2020-03-11', 'population':  10649800},\n",
    "    \"Denmark\": {'wd_id': 'Q86597685', 'lockdown_date': '2020-03-16', 'population':   5827463},\n",
    "    \"Estonia\": {'wd_id': 'Q87204911', 'lockdown_date': '2020-03-13', 'population':   1326535},\n",
    "    \"Finland\": {'wd_id': 'Q84055415', 'lockdown_date': '2020-03-16', 'population':   5540720},\n",
    "    \"France\":  {'wd_id': 'Q83873593', 'lockdown_date': '2020-03-16', 'population':  66628000},\n",
    "    \"Germany\": {'wd_id': 'Q83889294', 'lockdown_date': '2020-03-13', 'population':  83149300},\n",
    "    \"Greece\":  {'wd_id': 'Q87068864', 'lockdown_date': '2020-03-10', 'population':  10423054},\n",
    "    \"Hungary\": {'wd_id': 'Q87119811', 'lockdown_date': '2020-03-16', 'population':   9660351},\n",
    "    \"Ireland\": {'wd_id': 'Q87186365', 'lockdown_date': '2020-03-13', 'population':   4761865},\n",
    "    \"Italy\":   {'wd_id': 'Q84104992', 'lockdown_date': '2020-03-04', 'population':  60317000},\n",
    "    \"Latvia\":  {'wd_id': 'Q87066621', 'lockdown_date': '2020-03-12', 'population':   1909000},\n",
    "    \"Lithuania\":{'wd_id': 'Q87250838', 'lockdown_date': '2020-03-12', 'population':  2722289}, \n",
    "    \"Luxembourg\":{'wd_id': 'Q87250860', 'lockdown_date': '2020-03-13', 'population':  625978}, \n",
    "    \"Malta\":   {'wd_id': 'Q87587760', 'lockdown_date': '2020-03-12', 'population':    441543}, \n",
    "    \"Netherlands\": {'wd_id': 'Q86756826', 'lockdown_date': '2020-03-12', 'population': 17100715}, \n",
    "    \"Norway\":  {'wd_id': 'Q86886544', 'lockdown_date': '2020-03-12', 'population':   5367580},\n",
    "    \"Poland\":  {'wd_id': 'Q87250695', 'lockdown_date': '2020-03-12', 'population':  38433600}, \n",
    "    \"Portugal\": {'wd_id': 'Q86948603', 'lockdown_date': '2020-03-16', 'population': 10600000}, \n",
    "    \"Romania\": {'wd_id': 'Q87250752', 'lockdown_date': '2020-03-11', 'population':  19586539}, \n",
    "    \"Slovakia\": {'wd_id': 'Q87200954', 'lockdown_date': '2020-03-10', 'population':     5439892}, \n",
    "    \"Slovenia\": {'wd_id': 'Q87250948', 'lockdown_date': '2020-03-16', 'population':  2078938}, \n",
    "    \"Spain\":   {'wd_id': 'Q84166704', 'lockdown_date': '2020-03-12', 'population': 46754778}, \n",
    "# Sweden never closed primary schools\n",
    "    \"Sweden\":  {'wd_id': 'Q84081576', 'lockdown_date': '2020-03-17', 'population':  10099265}, \n",
    "    \"Switzerland\": {'wd_id': 'Q86717788', 'lockdown_date': '2020-03-16', 'population': 8466017},\n",
    "    \"UK\":      {'wd_id': 'Q84167106', 'lockdown_date': '2020-03-19', 'population':  66022273}, \n",
    "# different state follow different timelines in school closure in the US\n",
    "    \"USA\":  {'wd_id': 'Q83873577', 'lockdown_date': '2020-03-16', 'population':    325145963},\n",
    "#school was on vacations during the outbreak in China\n",
    "    \"China\":  {'wd_id': 'Q83872271', 'lockdown_date': '2020-01-23', 'population':    1409517397}, \n",
    "  #school was on vacations during the outbreak in South Korea\n",
    "    \"South Korea\": {'wd_id': 'Q83872398', 'lockdown_date': '2020-03-', 'population':   51466201},\n",
    "    \"Japan\": {'wd_id': 'Q83872291', 'lockdown_date': '2020-03-02', 'population':      126785797}, \n",
    " # School had been mostly open until 2020.04.02 in Singapore.\n",
    "    \"Singapore\": {'wd_id': 'Q83873387', 'lockdown_date': '2020-04-03', 'population':    5888926}\n",
    "}"
   ]
  },
  {
   "cell_type": "code",
   "execution_count": 3,
   "metadata": {},
   "outputs": [],
   "source": [
    "from datetime import datetime  \n",
    "from datetime import timedelta\n",
    "\n",
    "def fetchCovid19Case(wd_id, from_date_str, number_of_days):\n",
    "    '''fetch the number of newly confirmed cases data since the 'from_date_str' and for the next 'number_of_days' \n",
    "    \n",
    "    Returns:\n",
    "      An array that contains the daily increase of COVID-19 confirmed cases\n",
    "    '''\n",
    "    from_date_object = datetime.strptime(from_date_str, '%Y-%m-%d').date()\n",
    "    to_date_object = from_date_object + timedelta(days=number_of_days)\n",
    "    to_date_str = to_date_object.strftime('%Y-%m-%d')\n",
    "\n",
    "    url = 'https://query.wikidata.org/sparql'\n",
    "    query = f\"\"\"\n",
    "    SELECT\n",
    "      ?nrcases ?timepoint\n",
    "    WHERE {{\n",
    "      wd:{wd_id} p:P1603 ?p .\n",
    "      ?p pq:P585 ?timepoint ;\n",
    "         ps:P1603 ?nrcases .\n",
    "      FILTER(\"{from_date_str}\"^^xsd:dateTime <= ?timepoint && ?timepoint < \"{to_date_str}\"^^xsd:dateTime).\n",
    "    }}\n",
    "    ORDER BY ASC(?timepoint)\n",
    "    \"\"\"\n",
    "\n",
    "    r = requests.get(url, params={'format': 'json', 'query': query}) #execute the query\n",
    "    try:\n",
    "        data = r.json()\n",
    "    except Exception as ex:\n",
    "        print(f\"failed to parse response as json: {r.text}\")\n",
    "        return None\n",
    "    # if there are missing data, we'll just skip this country and return None\n",
    "    if len(data['results']['bindings']) < number_of_days:\n",
    "        print(f\"failed to fetch enough datapoints for {wd_id}. got {len(data['results']['bindings'])}\")\n",
    "        return None \n",
    "    \n",
    "    #print(data['results']['bindings'][0])\n",
    "    cases = {}\n",
    "    for i in range(number_of_days):\n",
    "        date_idx = (datetime.strptime(from_date_str, '%Y-%m-%d').date() + timedelta(days=i)).strftime('%Y-%m-%d')\n",
    "        cases[date_idx] = None\n",
    "        \n",
    "    for item in data['results']['bindings']:\n",
    "        #print(item['timepoint']['value'])\n",
    "        timepoint_str = item['timepoint']['value']\n",
    "        #2020-03-17T00:00:00Z\n",
    "        timepoint_datestr =datetime.strptime(timepoint_str, '%Y-%m-%dT%H:%M:%SZ').date().strftime('%Y-%m-%d')\n",
    "        try:\n",
    "            nrcases = int(item['nrcases']['value'])\n",
    "        except:\n",
    "            print(f\"failed to parse {item}\")\n",
    "            continue\n",
    "\n",
    "        if cases[timepoint_datestr] is None:\n",
    "            cases[timepoint_datestr] = nrcases\n",
    "        elif nrcases > cases[timepoint_datestr]:            \n",
    "            # if the time already exists, and the new 'nrcases' is bigger, we use the new 'nrcases' to overwrite the existing one\n",
    "            if nrcases not in [51100]: # some weird duplicates that we need to skip.\n",
    "                cases[timepoint_datestr] = nrcases\n",
    "        pass\n",
    "        \n",
    "    # check if there is any date without nrcase.\n",
    "    for date_str, nrcase in cases.items():\n",
    "        if nrcase is None:\n",
    "            print(f\"no data reported on {date_str}\")\n",
    "            return None\n",
    "\n",
    "    df_wikidata=pd.DataFrame.from_records(list(cases.items()), columns =['date', 'nrcases'])\n",
    "\n",
    "    #print(df_wikidata['nrcases'].values)\n",
    "    return np.diff(df_wikidata['nrcases'].values)\n"
   ]
  },
  {
   "cell_type": "code",
   "execution_count": 4,
   "metadata": {},
   "outputs": [
    {
     "data": {
      "text/plain": [
       "array([ 314,  367,  375,  426,  430,  680,  952,  684,  838, 1001])"
      ]
     },
     "execution_count": 4,
     "metadata": {},
     "output_type": "execute_result"
    }
   ],
   "source": [
    "fetchCovid19Case(covid19Data['Austria']['wd_id'], '2020-03-17',  11)"
   ]
  },
  {
   "cell_type": "markdown",
   "metadata": {},
   "source": [
    "## Fetch the daily increase number from wikidata. \n",
    "This is done with best effort, so if some countries has missing datapoint we will just skip it.\n",
    "The school closure dates in European countries are quite similar to each other. They were all scheduled to start around the weekend of March 15. \n",
    "And for the sake of this exercise, I will just pick 2020 March 17 as the starting date and fetch daily increases for next 10 consecutive days. If some data were missing I will skip that country."
   ]
  },
  {
   "cell_type": "code",
   "execution_count": 5,
   "metadata": {},
   "outputs": [
    {
     "name": "stdout",
     "output_type": "stream",
     "text": [
      "working on Austria\n",
      "working on Belgium\n",
      "failed to fetch enough datapoints for Q84446340. got 5\n",
      "working on Bulgaria\n",
      "failed to fetch enough datapoints for Q87486535. got 1\n",
      "working on Croatia\n",
      "failed to fetch enough datapoints for Q87250732. got 2\n",
      "working on Cyprus\n",
      "failed to fetch enough datapoints for Q87580938. got 2\n",
      "working on Czech\n",
      "working on Denmark\n",
      "failed to fetch enough datapoints for Q86597685. got 6\n",
      "working on Estonia\n",
      "failed to fetch enough datapoints for Q87204911. got 3\n",
      "working on Finland\n",
      "failed to fetch enough datapoints for Q84055415. got 4\n",
      "working on France\n",
      "working on Germany\n",
      "working on Greece\n",
      "failed to fetch enough datapoints for Q87068864. got 4\n",
      "working on Hungary\n",
      "working on Ireland\n",
      "failed to parse {'nrcases': {'type': 'bnode', 'value': 't1958263443'}, 'timepoint': {'datatype': 'http://www.w3.org/2001/XMLSchema#dateTime', 'type': 'literal', 'value': '2020-03-17T00:00:00Z'}}\n",
      "failed to parse {'nrcases': {'type': 'bnode', 'value': 't1958263433'}, 'timepoint': {'datatype': 'http://www.w3.org/2001/XMLSchema#dateTime', 'type': 'literal', 'value': '2020-03-18T00:00:00Z'}}\n",
      "failed to parse {'nrcases': {'type': 'bnode', 'value': 't1958263441'}, 'timepoint': {'datatype': 'http://www.w3.org/2001/XMLSchema#dateTime', 'type': 'literal', 'value': '2020-03-19T00:00:00Z'}}\n",
      "failed to parse {'nrcases': {'type': 'bnode', 'value': 't1958263432'}, 'timepoint': {'datatype': 'http://www.w3.org/2001/XMLSchema#dateTime', 'type': 'literal', 'value': '2020-03-20T00:00:00Z'}}\n",
      "failed to parse {'nrcases': {'type': 'bnode', 'value': 't1958263457'}, 'timepoint': {'datatype': 'http://www.w3.org/2001/XMLSchema#dateTime', 'type': 'literal', 'value': '2020-03-21T00:00:00Z'}}\n",
      "no data reported on 2020-03-27\n",
      "working on Italy\n",
      "working on Latvia\n",
      "failed to fetch enough datapoints for Q87066621. got 5\n",
      "working on Lithuania\n",
      "failed to fetch enough datapoints for Q87250838. got 2\n",
      "working on Luxembourg\n",
      "working on Malta\n",
      "failed to fetch enough datapoints for Q87587760. got 1\n",
      "working on Netherlands\n",
      "working on Norway\n",
      "working on Poland\n",
      "working on Portugal\n",
      "working on Romania\n",
      "failed to fetch enough datapoints for Q87250752. got 2\n",
      "working on Slovakia\n",
      "failed to fetch enough datapoints for Q87200954. got 3\n",
      "working on Slovenia\n",
      "failed to fetch enough datapoints for Q87250948. got 4\n",
      "working on Spain\n",
      "working on Sweden\n",
      "failed to fetch enough datapoints for Q84081576. got 10\n",
      "working on Switzerland\n",
      "failed to fetch enough datapoints for Q86717788. got 9\n",
      "working on UK\n",
      "working on USA\n",
      "working on China\n",
      "working on South Korea\n",
      "working on Japan\n",
      "working on Singapore\n",
      "failed to fetch enough datapoints for Q83873387. got 3\n"
     ]
    }
   ],
   "source": [
    "import time\n",
    "\n",
    "for country, country_info in covid19Data.items():\n",
    "    # instead of using the school closure date, I picked a fixed date, as most EU countries closed school \n",
    "    # around the same time frame, i.e. before/after the weekend of 2020-03.15\n",
    "    print(f\"working on {country}\")\n",
    "    daily_increase = fetchCovid19Case(covid19Data[country]['wd_id'], '2020-03-17',  11)\n",
    "    covid19Data[country]['daily_increase'] = daily_increase\n",
    "    # sleep a little bit before sending the next request. Otherwise wikidata query service may reject my request\n",
    "    time.sleep(5)"
   ]
  },
  {
   "cell_type": "markdown",
   "metadata": {},
   "source": [
    "## Find the countries with meaningful daily increase number from wikidata. We will only analyze those\n",
    "We use the number of new Covid-19 cases per 100K population in the feature vector. i.e. the feature vector for each country\n",
    "is the number of new cases per 100K population from 2020-03-18 to 2020-03-27."
   ]
  },
  {
   "cell_type": "code",
   "execution_count": 6,
   "metadata": {},
   "outputs": [
    {
     "data": {
      "text/plain": [
       "(17, 10)"
      ]
     },
     "execution_count": 6,
     "metadata": {},
     "output_type": "execute_result"
    }
   ],
   "source": [
    "# country names\n",
    "countryLabels = []\n",
    "# daily increase of Covid-19 cases per 100K population\n",
    "dailyIncreasePer100K = []\n",
    "for country, countryInfo in covid19Data.items():\n",
    "    if countryInfo['daily_increase'] is not None:\n",
    "        countryLabels.append(country)\n",
    "        dailyIncreasePer100K.append(np.divide(countryInfo['daily_increase'], countryInfo['population']/100000 ))\n",
    "\n",
    "Z = np.array(dailyIncreasePer100K)\n",
    "Z.shape\n",
    "\n"
   ]
  },
  {
   "cell_type": "markdown",
   "metadata": {},
   "source": [
    "**So in the end, we got 17 countries left for analysis.**"
   ]
  },
  {
   "cell_type": "code",
   "execution_count": 7,
   "metadata": {},
   "outputs": [
    {
     "name": "stdout",
     "output_type": "stream",
     "text": [
      "Austria: [ 3.56445049  4.1660934   4.25690743  4.83584684  4.88125385  7.71919214\n",
      " 10.80686899  7.76459915  9.51276913 11.3631049 ]\n",
      "Czech: [1.03288325 1.92491878 1.16434111 1.48359594 1.10800203 1.14556142\n",
      " 1.73712182 2.73244568 2.43197055 3.50241319]\n",
      "France: [2.10722219 2.79312001 2.42690761 2.77210782 3.34694123 4.75325689\n",
      " 3.67112925 4.39905145 5.88641412 5.71681575]\n",
      "Germany: [1.2531675  3.3686393  8.80825214 3.77633967 3.98199384 5.33738709\n",
      " 2.81662022 5.95795755 6.95135136 7.56951652]\n",
      "Hungary: [0.08281273 0.15527386 0.12421909 0.18632863 0.28984454 0.37265727\n",
      " 0.20703181 0.40371204 0.36230568 0.40371204]\n",
      "Italy: [ 6.97481639  8.82338313  9.92423363 10.87089875  9.21796508  7.93971849\n",
      "  8.70235589  8.6376975  10.20110417  9.87947013]\n",
      "Luxembourg: [10.06425146 21.08700306 23.80275345 29.71350431 20.44800296 12.30075178\n",
      " 35.78400519 37.38150542 19.17000278 24.28200352]\n",
      "Netherlands: [2.02330721 2.39171286 3.12267645 3.72499045 3.35073709 3.18700125\n",
      " 4.74249176 4.98224782 5.95881517 6.8535146 ]\n",
      "Norway: [2.14249252 2.4033177  3.53977025 3.42798803 3.83785617 4.45265837\n",
      " 3.6329221  6.52062941 4.47128874 7.91790714]\n",
      "Poland: [0.21335498 0.17692852 0.03122268 0.22116065 0.47354398 0.29921735\n",
      " 0.39548728 0.3902835  0.4423213  0.43711752]\n",
      "Portugal: [1.83018868 1.3490566  2.21698113 2.45283019 3.01886792 4.33962264\n",
      " 2.8490566  5.97169811 5.17924528 6.83018868]\n",
      "Spain: [ 5.42832221  7.33828744  6.05927377 10.57859798  7.79813349  9.6610447\n",
      " 14.08198324 16.97580513 18.346788   16.83464308]\n",
      "UK: [1.02389689 0.97997232 1.0693361  1.56765278 1.01329441 1.46465724\n",
      " 2.16139181 2.19925782 3.22466935 4.29854937]\n",
      "USA: [0.90789994 1.37876539 1.71861276 1.48394892 2.89100929 3.13366954\n",
      " 3.40616254 4.10738607 5.29731319 5.74849518]\n",
      "China: [0.00411488 0.00893923 0.00822977 0.00581759 0.00730747 0.01035816\n",
      " 0.00716557 0.00801693 0.00830071 0.01078383]\n",
      "South Korea: [0.18070112 0.29533946 0.16904298 0.47604058 0.12435346 0.14766973\n",
      " 0.19430228 0.20207437 0.17681507 0.28368132]\n",
      "Japan: [0.         0.0347042  0.06073235 0.03628167 0.03943659 0.03391547\n",
      " 0.03076054 0.05126757 0.07729572 0.07571826]\n"
     ]
    }
   ],
   "source": [
    "for country, increase in zip(countryLabels, dailyIncreasePer100K):\n",
    "    print(f\"{country}: {increase}\")"
   ]
  },
  {
   "cell_type": "markdown",
   "metadata": {},
   "source": [
    "## Cluster analysis \n",
    "### First, let's try to find the number of clusters"
   ]
  },
  {
   "cell_type": "code",
   "execution_count": 8,
   "metadata": {},
   "outputs": [
    {
     "name": "stdout",
     "output_type": "stream",
     "text": [
      "Clustering errors: \n",
      "[[372.98790041]\n",
      " [116.44131822]\n",
      " [ 42.71794933]\n",
      " [ 19.22049211]\n",
      " [ 10.61083353]\n",
      " [  6.82897086]\n",
      " [  3.80305313]\n",
      " [  1.42176723]]\n"
     ]
    },
    {
     "data": {
      "image/png": "[encoded data removed]",
      "text/plain": [
       "<Figure size 576x432 with 1 Axes>"
      ]
     },
     "metadata": {
      "needs_background": "light"
     },
     "output_type": "display_data"
    }
   ],
   "source": [
    "m = Z.shape[0]    # Number of data points\n",
    "err_clustering = np.zeros((8,1))    # Array for storing clustering errors\n",
    "\n",
    "L=100\n",
    "for k_minus_1 in range(8):\n",
    "    k_means = KMeans(n_clusters = k_minus_1+1, max_iter = L).fit(Z)\n",
    "    err_clustering[k_minus_1] = 1/m * k_means.inertia_\n",
    "    \n",
    "\n",
    "print(f'Clustering errors: \\n{err_clustering}')\n",
    "\n",
    "# Plot the clustering error as a function of the number k of clusters\n",
    "plt.figure(figsize=(8,6))\n",
    "plt.plot(range(1,9), err_clustering)\n",
    "plt.xlabel('Number of clusters')\n",
    "plt.ylabel('Clustering error')\n",
    "plt.title(\"The number of clusters vs clustering error\")\n",
    "plt.show()   "
   ]
  },
  {
   "cell_type": "markdown",
   "metadata": {},
   "source": [
    "### From the above graph, It seems 3~4 cluster are the most appropriate. Let's do the K-Means clustering on Z, with 4 clusters"
   ]
  },
  {
   "cell_type": "code",
   "execution_count": 11,
   "metadata": {},
   "outputs": [
    {
     "name": "stdout",
     "output_type": "stream",
     "text": [
      "{   0: ['Czech', 'Hungary', 'Poland', 'UK', 'China', 'South Korea', 'Japan'],\n",
      "    1: ['Luxembourg'],\n",
      "    2: ['Austria', 'Italy', 'Spain'],\n",
      "    3: ['France', 'Germany', 'Netherlands', 'Norway', 'Portugal', 'USA']}\n"
     ]
    }
   ],
   "source": [
    "k = 4    # Define number of clusters to use\n",
    "\n",
    "k_means = KMeans(n_clusters = k, max_iter = 100).fit(Z)  # Apply k-means with k=4 cluster and using maximum 100 iterations\n",
    "cluster_means = k_means.cluster_centers_    # Get cluster means (centers)\n",
    "cluster_indices = k_means.labels_           # Get the cluster labels for each data point\n",
    "\n",
    "#print the cluster labels and the relevant countries\n",
    "clusters={}\n",
    "for country, idx in zip(countryLabels, cluster_indices):\n",
    "    if idx not in clusters:\n",
    "        clusters[idx] = [country]\n",
    "    else:\n",
    "        clusters[idx].append(country)\n",
    "\n",
    "import pprint\n",
    "pp = pprint.PrettyPrinter(indent=4)\n",
    "pp.pprint(clusters)"
   ]
  },
  {
   "cell_type": "markdown",
   "metadata": {},
   "source": [
    "### Let's do PCA to transform the original data Z with 10 features into X with 2 features and then plot these countries"
   ]
  },
  {
   "cell_type": "code",
   "execution_count": 12,
   "metadata": {},
   "outputs": [
    {
     "name": "stdout",
     "output_type": "stream",
     "text": [
      "Shape of Z: (17, 10)\n",
      "Shape of X: (17, 2)\n",
      "Shape of compression matrix W: (2, 10)\n",
      "PCA error: 7.975148850307083\n"
     ]
    }
   ],
   "source": [
    "from sklearn.decomposition import PCA\n",
    "from sklearn.metrics import mean_squared_error\n",
    "n = 2  # Define number of principal components\n",
    "\n",
    "pca = PCA(n_components=n)    # Define pca object with n components\n",
    "pca.fit(Z)    # Fit pca object on Z\n",
    "W_pca = pca.components_\n",
    "# Now the principle components becomes X\n",
    "X = pca.transform(Z)\n",
    "# reconstruct from X to get Z_hat\n",
    "Z_hat = pca.inverse_transform(X)\n",
    "# Now calculating err_pca\n",
    "err_pca = mean_squared_error(Z, Z_hat)*len(Z[0])\n",
    "\n",
    "#raise NotImplementedError()\n",
    "\n",
    "print(f'Shape of Z: {Z.shape}')\n",
    "print(f'Shape of X: {X.shape}')\n",
    "print(f'Shape of compression matrix W: {W_pca.shape}')\n",
    "print(f'PCA error: {err_pca}')"
   ]
  },
  {
   "cell_type": "code",
   "execution_count": 18,
   "metadata": {},
   "outputs": [],
   "source": [
    "def plottingCluster(data, centroids=None, clusters=None):\n",
    "    # This function will later on be used for plotting the clusters and centroids. But now we use it to just make a scatter plot of the data\n",
    "    # Input: the data as an array, cluster means (centroids), cluster assignemnts in {0,1,...,k-1}   \n",
    "    # Output: a scatter plot of the data in the clusters with cluster means\n",
    "    plt.figure(figsize=(12,12))\n",
    "    data_colors = ['orangered', 'dodgerblue', 'springgreen', 'blueviolet', 'gold']\n",
    "    centroid_colors = ['red', 'darkblue', 'limegreen', 'violet', 'yellow'] # Colors for the centroids\n",
    "    plt.style.use('ggplot')\n",
    "    plt.title(\"PCA transformed data\")\n",
    "    plt.xlabel(\"$x_1$\")\n",
    "    plt.ylabel(\"$x_2$\")\n",
    "\n",
    "    alp = 0.5             # data points alpha\n",
    "    dt_sz = 20            # marker size for data points \n",
    "    cent_sz = 130         # centroid sz \n",
    "    \n",
    "    if centroids is None and clusters is None:\n",
    "        plt.scatter(data[:,0], data[:,1],s=dt_sz,alpha=alp ,c=data_colors[0])\n",
    "    if centroids is not None and clusters is None:\n",
    "        plt.scatter(data[:,0], data[:,1],s=dt_sz,alpha=alp, c=data_colors[0])\n",
    "        plt.scatter(centroids[:,0], centroids[:,1], marker=\"x\", s=cent_sz, c=centroid_colors[:len(centroids)])\n",
    "    if centroids is not None and clusters is not None:\n",
    "        plt.scatter(data[:,0], data[:,1], c=[data_colors[i] for i in clusters], s=dt_sz, alpha=alp)\n",
    "        plt.scatter(centroids[:,0], centroids[:,1], marker=\"x\", c=centroid_colors[:len(centroids)], s=cent_sz)\n",
    "    if centroids is None and clusters is not None:\n",
    "        plt.scatter(data[:,0], data[:,1], c=[data_colors[i-1] for i in clusters], s=dt_sz, alpha=alp)\n",
    " \n",
    "    for x,y,label in zip(data[:,0],data[:,1],countryLabels):\n",
    "        plt.annotate(label, # this is the text\n",
    "                     (x,y), # this is the point to label\n",
    "                     textcoords=\"offset points\", # how to position the text\n",
    "                     xytext=(0,5), # distance from text to points (x,y)\n",
    "                     ha='center',fontsize=10) # horizontal alignment can be left, right or center\n",
    "    plt.show()\n",
    "\n"
   ]
  },
  {
   "cell_type": "code",
   "execution_count": 21,
   "metadata": {},
   "outputs": [
    {
     "data": {
      "image/png": "[encoded data removed]",
      "text/plain": [
       "<Figure size 864x864 with 1 Axes>"
      ]
     },
     "metadata": {},
     "output_type": "display_data"
    },
    {
     "name": "stdout",
     "output_type": "stream",
     "text": [
      "{   0: ['France', 'Germany', 'Netherlands', 'Norway', 'Portugal', 'USA'],\n",
      "    1: ['Luxembourg'],\n",
      "    2: ['Czech', 'Hungary', 'Poland', 'UK', 'China', 'South Korea', 'Japan'],\n",
      "    3: ['Austria', 'Italy', 'Spain']}\n"
     ]
    }
   ],
   "source": [
    "m, n = X.shape    # Get the number of data points m and number of features n\n",
    "\n",
    "k = 4    # Define number of clusters to use\n",
    "\n",
    "cluster_means = np.zeros((k,n))    # Store the resulting clustering means in the rows of this np array\n",
    "cluster_labels = np.zeros(m)    # Store here the resulting cluster indices (one for each data point)\n",
    "\n",
    "k_means = KMeans(n_clusters = k, max_iter = 100).fit(X)  # Apply k-means with k=3 cluster and using maximum 100 iterations\n",
    "cluster_means = k_means.cluster_centers_    # Get cluster means (centers)\n",
    "cluster_indices = k_means.labels_           # Get the cluster labels for each data point\n",
    "\n",
    "# Plot the clustered data\n",
    "plottingCluster(X, centroids=cluster_means, clusters=cluster_indices)\n",
    "\n",
    "#print the cluster labels\n",
    "clusters={}\n",
    "for country, idx in zip(countryLabels, cluster_indices):\n",
    "    if idx not in clusters:\n",
    "        clusters[idx] = [country]\n",
    "    else:\n",
    "        clusters[idx].append(country)\n",
    "\n",
    "import pprint\n",
    "pp = pprint.PrettyPrinter(indent=4)\n",
    "pp.pprint(clusters)\n"
   ]
  },
  {
   "cell_type": "markdown",
   "metadata": {},
   "source": [
    "### Some intepretation of the data.\n",
    "It is easy to see that clustering on the original data Z and PCA transformed data X generates the same clustering results.\n",
    "I assume the two primary components of each data point maily cover two aspects of the pandemic:\n",
    "* The number of newly confirmed cases per 100K population. \n",
    "* The changes in the daily increase (i.e. is it increasing or decreasing or relatively stable)\n",
    "\n",
    "In the period of 2020.03.18~2020.03.28\n",
    "* For countries like Luxembourg and Spain, their per 100K newly confirmed cases are quite big, so they stand out, on the X_1 axis.\n",
    "* For countries where the number of new cases keeps increasing at a fast pace, they stand out on the X_2 axis, such as Austria and Spain.\n",
    "* Countries like 'USA' and 'France', their number of daily increase is not very high yet (per population), but the trend is accelerating.\n",
    "* There are countries like China and South Korea and Japan where the pandemic looks more or less under control as exhibited by low number of newly increase per 100K population as well as the changes in the newly affected cases doesn't have a increasing trend.\n",
    "\n",
    "Based on the analyzed timewindow, if the COVID-19 testing has been sufficient among the population and the numbers truly reflect the pandemic situation, then we can draw the conclusion that if one lives in the last cluster (which includes countries like 'Czech', 'Hungary', 'Poland', 'UK', 'China', 'South Korea', 'Japan'), then the risk to contract COVID-19 is the lowest."
   ]
  },
  {
   "cell_type": "code",
   "execution_count": null,
   "metadata": {},
   "outputs": [],
   "source": []
  }
 ],
 "metadata": {
  "kernelspec": {
   "display_name": "Python 3",
   "language": "python",
   "name": "python3"
  },
  "language_info": {
   "codemirror_mode": {
    "name": "ipython",
    "version": 3
   },
   "file_extension": ".py",
   "mimetype": "text/x-python",
   "name": "python",
   "nbconvert_exporter": "python",
   "pygments_lexer": "ipython3",
   "version": "3.7.5"
  },
  "toc": {
   "colors": {
    "hover_highlight": "#DAA520",
    "navigate_num": "#000000",
    "navigate_text": "#333333",
    "running_highlight": "#FF0000",
    "selected_highlight": "#FFD700",
    "sidebar_border": "#EEEEEE",
    "wrapper_background": "#FFFFFF"
   },
   "moveMenuLeft": true,
   "nav_menu": {
    "height": "138px",
    "width": "252px"
   },
   "navigate_menu": true,
   "number_sections": true,
   "sideBar": true,
   "threshold": 4,
   "toc_cell": false,
   "toc_section_display": "block",
   "toc_window_display": false,
   "widenNotebook": false
  }
 },
 "nbformat": 4,
 "nbformat_minor": 4
}
